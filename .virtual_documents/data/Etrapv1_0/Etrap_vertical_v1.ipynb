import sys
import logging, os
from time import time
import numpy as np
import pyvista as pv
import matplotlib.pyplot as plt
from mpl_toolkits.mplot3d import axes3d
get_ipython().run_line_magic("matplotlib", " notebook")

from bem import Electrodes, Sphere, Cylinder, Mesh, Grid, Configuration, Result
from bem.formats import stl
import ipyparallel as ipp
from scipy.optimize import curve_fit
import pandas as pd1
from matplotlib import cm,ticker
from matplotlib.patches import Rectangle
import matplotlib.gridspec as gridspec
from mpl_toolkits.axes_grid1 import make_axes_locatable





# base file name for outputs and inputs is the script name
try:
    # works only if we are a script
    prefix = os.path.splitext(__file__)[0]
except NameError:
    # fallback for notebooks
    prefix = "etrap_vertical_v1_pillar_350um_central_350um_color"
suffix = ""


scale = 100e-6    # rescale factor 100 um.
use_stl = True

# load electrode faces from colored stl
# s_nta is intermediate processed stl file.
s_nta = stl.read_stl(open("%s.stl" % prefix, "rb"))
print("Import stl:",os.path.abspath("./"+prefix+".stl"),"\n")
print("Electrode colors (numbers):\n")
mesh = Mesh.from_mesh(stl.stl_to_mesh(*s_nta, scale=scale/1e-6,rename={1:"1"})) # unit inside is um


print(len(s_nta), type(s_nta),"\n")
# s_nta is a length 3 tuple. (normal, triangle, attribute) 
# Normal direction of each triangle, three vetice of triangles, coding number of colors.
print("Triangles:",len(s_nta[0]),"\nColors:",len(s_nta[2]),"\n")    # This isn't right.

# stl_to_mesh() only assigns names and does scaling, doing no triangulation to stl mesh.
# "scale=scale/1e-6" only scales dimensionless scale/1e-6.    1e-6: if stl uses micron as unit. 
mesh = Mesh.from_mesh(stl.stl_to_mesh(*s_nta, scale=scale/1e-6,
    rename={
        20960:"RF0",
        21:"DC1",
        1633:"DC2",
        28165:"DC3",
        1882:"DC4",
        1530:"DC5",
        24063:"DC6",
        24603:"DC7",
        23887:"DC8",
        30653:"RF1",
        0:"RF2"
           }))    



mesh.plot()


# set .1 max area within 3
# areas_from_constraints specifies sphere with finer mesh inside it.
mesh.areas_from_constraints(Sphere(center=np.array([0., 0., 1]),
           radius=9, inside=0.1, outside=10.))    # "inside", "outside" set different mesh densities.
# mesh.areas_from_constraints(Sphere(center=np.array([0., 0., 1]),
#            radius=3.5, inside=0.1, outside=5))    # "inside", "outside" set different mesh densities.
# retriangulate quality and quiet with areas
mesh.triangulate(opts="q20Q", new=False)
# save base mesh to vtk
mesh.to_vtk(prefix+suffix)
print("Output vtk:",os.path.abspath("./"+prefix+suffix+".vtk"))    # output path

# fig, ax = plt.subplots(subplot_kw=dict(aspect="equal"), figsize=(8,6), dpi=100)
# ax.set_xlabel("x/l",fontsize=10)
# ax.set_ylabel("y/l",fontsize=10)
# mesh.plot(ax)





mesh.plot()





# Define calculation function.
def run_job(args):
    # job is Configuration instance.
    job, grid, prefix = args
    # refine twice adaptively with increasing number of triangles, min angle 15 deg.
#     job.adapt_mesh(triangles=4e2, opts="q0.1Q")
#     job.adapt_mesh(triangles=1e3, opts="q0.1Q")
    # solve for surface charges
    job.solve_singularities(num_mom=4, num_lev=3, max_iter=400)
    # get potentials and fields
    # RF_field = (job.name=="RF1") or (job.name=="RF2") or (job.name=="RF0")
    RF_field = "RF" in job.name
    result = job.simulate(grid, field=RF_field, num_lev=2)    # For "RF", field=True computes the field.
    result.to_vtk(prefix)
    print("finished job %s" % job.name)
    return job.collect_charges()


# grid to evalute potential and fields atCreate a grid in unit of scaled length l. Only choose the interested region (trap center) to save time.
s = 0.01 # step 0.01*100 (scale) = 1 um
Lx, Ly, Lz = 0.2,0.2,4   # in the unit of scaled length l, z=0 is the bottom of substrate, z = 30um is the top of metal
sx, sy, sz = s, s, 2*s
# ni is grid point number, si is step size. Thus to fix size on i direction you need to fix ni*si.
# nx, ny, nz = [2*np.ceil(L/2.0/s).astype('int')+1 for L in (Lx, Ly, Lz)]
nx = 2*np.ceil(Lx/2.0/sx).astype('int')+1 
ny = 2*np.ceil(Ly/2.0/sy).astype('int')+1 
nz = 2*np.ceil(Lz/2.0/sz).astype('int')+1 
print("Size/l:", Lx, Ly, Lz)
print("Step/l:", sx, sy, sz)
print("Shape (grid point numbers):", nx, ny, nz)
grid = Grid(center=(0, 0, Lz/2), step=(sx, sy, sz), shape=(nx, ny, nz))
# Grid center (nx, ny ,nz)/2 is shifted to origin
print("Grid origin/l:", grid.get_origin()[0])
x, y, z = grid.to_xyz()


# generate electrode potential configurations to simulate
# use regexps to match electrode names

jobs = list(Configuration.select(mesh, "DC.*","RF"))    # select() picks one electrode each time.
# jobs = list(Configuration.select(mesh, "RF"))    # select() picks one electrode each time.
# jobs = list(Configuration.select(mesh, "DC.*")) 



# parallel computation
mycluster = ipp.Cluster()
mycluster.start_cluster_sync()
c = mycluster.connect_client_sync()
c.wait_for_engines()

t0 = time()
# Run a parallel map, executing the wrapper function on indices 0,...,n-1
lview = c.load_balanced_view()
# Cause execution on main process to wait while tasks sent to workers finish
lview.block = True 
asyncresult = lview.map_async(run_job, ((job, grid, prefix) for job in jobs))   # Run calculation in parallel
asyncresult.wait_interactive()
print("Computing time: %f s"%(time()-t0))



# # run the different electrodes on the parallel pool
# pmap = Pool().map # parallel map
# # pmap = map # serial map
# t0 = time()
# list(pmap(run_job, ((job, grid, prefix+suffix) for job in jobs)))
# print("Computing time: %f s"%(time()-t0))
# # run_job casts a word after finishing each electrode.





get_ipython().run_line_magic("matplotlib", " inline")
e = 1.60217657e-19
m_e = 9.10938356e-31
hbar = 1.05457148e-34
au = 1.6605402E-27
m_Ca = 40*au
def PseudoPotential(field_square,m,Ω,V):
    ''' Given the electric field square, return the approximated pseudopotential in eV'''
    return field_square*e**2*V**2/(4*m*Ω**2)*6.242E18

def FindRFNull(pp_rf,z,scale):
    '''Given the pesodupential, return the z axis coordinate of rf null in um'''
    a = int(np.floor(pp_rf.shape[0]/2))
    b = int(np.floor(pp_rf.shape[1]/2))
    p = pp_rf[a, b, :]
    argmax = np.argmax(p)
    if argmax == len(p)-1:
        argmax = 0
    index = np.argmin(p[argmax:])
    return index+argmax, z[index+argmax]*scale*1e6

def TrapFrequency(d2Udx2,m):
    '''Given the second order gradient of the potential return the trap frequency in Hz'''
    return np.sqrt(np.abs(d2Udx2/m)) / 2 / np.pi
# Mag_E^2*1.6E-19^2/(4*9.1E-31*(2*pi*1.6E9)^2)*6.2E18


# explore it in fancy 3D pyvista GUI
Result.view(prefix+suffix, "RF1")

# from pyface.api import GUI
# GUI().start_event_loop()

# small bug to run pyvista GUI on mac, just close the GUI and return to the code, the actual window won't close


'''
# find approximately where the rf null is
plotter = pv.Plotter(notebook = False)
data = pv.UniformGrid('IonTrapLattice_21_1_inventor_color_RF1.vtk')
if 'field_square' in data.point_data.keys():
    scalar_name = 'field_square'
else:
    scalar_name = 'potential'
# iso_surfaces = data.contour(isosurfaces = 10, scalars = scalar_name, rng = [0, 0.015])
# plotter.add_mesh(iso_surfaces, opacity = 0.5)
plotter.add_mesh_isovalue(data, scalars = scalar_name)
plotter.show_bounds()
plotter.add_camera_orientation_widget()
plotter.show()
'''


# import rf data
t0 = time()
result_rf0 = Result.from_vtk(prefix+suffix, 'RF0')
result_rf1 = Result.from_vtk(prefix+suffix, 'RF1')
result_rf2 = Result.from_vtk(prefix+suffix, 'RF2')
print("Computing time: %f s"%(time()-t0))





# Plot the field square along symmetric axis (x=0,y=0) and find the z axis of rf null
get_ipython().run_line_magic("matplotlib", " inline")
pp_rf1 = result_rf1.field_square / scale**2
rf1_field = result_rf1.field / scale
pp_rf2 = result_rf2.field_square / scale**2
rf2_field = result_rf2.field / scale
rf_op = np.square(rf1_field - rf2_field).sum(axis=0).reshape(result_rf1.grid.shape)
grid_x = result_rf1.grid.to_mgrid()[0]
grid_y = result_rf1.grid.to_mgrid()[1]
grid_z = result_rf1.grid.to_mgrid()[2]

pp_rf = pp_rf1
# pp_rf = rf_op
Ω_e = 2*np.pi*3e9
# Ω_Ca = 2*np.pi*50e6
V = 60
pp_rf = PseudoPotential(pp_rf,m_e,Ω_e,V)
# pp_rf = PseudoPotential(pp_rf,m_Ca,Ω_Ca,V)
index, rf_null = FindRFNull(pp_rf,z,scale)
a = int(np.floor(pp_rf.shape[0]/2))
b = int(np.floor(pp_rf.shape[1]/2))
plt.plot(z[31:]*scale*1e6, pp_rf[a, b, 31:])
plt.xlabel("Trap height (um)")
plt.ylabel("Pseudo potential (eV)")
plt.axvline(x = rf_null, color = 'grey', linestyle = '-.',label="h = %s um"%rf_null)
plt.grid()
plt.legend()
# z.shape
# pp_rf.shape
# plt.show()
print("RF Null is at %s um"%rf_null)
print("z index of rf null is %s"%index)


rf0_field_z = result_rf0.field[2] / scale # V/m
plt.plot(z[31:]*scale*1e6, rf0_field_z[a, b, 31:])
plt.xlabel("Trap height (um)")
plt.ylabel("E field (V/m)")
plt.axvline(x = rf_null, color = 'grey', linestyle = '-.',label="E field @ rf null height = %s V/m"%rf0_field_z[a, b, index])
plt.grid()
plt.legend()
Ez = rf0_field_z[a, b, index]

print("D_eff = {:.2f} mm".format(np.abs(1/Ez*1e3)))
# interested to know, fixed trap height, d_eff over center electrode size, first increase, then drop?


# plot the pseudopotential in x and y direction
# pp_rf = rf_op # out of phase rf

# V = 1
# pp_rf = PseudoPotential(pp_rf,m_e,Ω_e,V)
# pp_rf = PseudoPotential(pp_rf,m_Ca,Ω_Ca,V) # 2 pair of rf
index, rf_null = FindRFNull(pp_rf,z,scale)
c = index
plt.plot(x*scale*1e6, pp_rf[:, b, c],label = "Pseudo potential along x")
plt.plot(y*scale*1e6,pp_rf[a,:,c],label = "Pseudo potential along y")
plt.xlabel("Distance (um)")
plt.ylabel("Pseudopotential (eV)")
plt.grid()
plt.legend()


pp_plot = np.around(pp_rf, decimals=2)
x, y, z = result_rf1.grid.to_xyz()
plt.rcParams.update({'font.size': 14,
                     'lines.markersize': 12,
                     'lines.linewidth': 2.5,
                     'xtick.labelsize': 15,
                     'ytick.labelsize': 15,
                     'errorbar.capsize': 2})
fig, ax = plt.subplots(figsize = (8,6))
for i in range(len(pp_plot[:, :, c])):
    for j in range(len(pp_plot[i, :, c])):
        if pp_plot[i, j, c] < 0.0001:
            pp_plot[i, j, c] = 0.0001
max_pp = np.log10(np.max(pp_rf))
level = np.logspace(-4, 0, 1000, base = 10, endpoint = True) # min max level in the plot
contp = ax.contourf(100 * x[:], 100 * y[:],
                    pp_plot[:, :, c],
                    locator=ticker.LogLocator(),
                    levels = level,
                    cmap = "seismic")
cbar = fig.colorbar(contp,
                    ticks = [0.001, 0.01,0.1,1,10,100, 1000]
                   )
ax.set_aspect('equal')
ax.set_xlabel("x (µm)")
ax.set_ylabel("y (µm)")
cbar.ax.set_ylabel("Pseudopotential (eV)")
cbar.ax.set_yscale("log")
# plt.savefig(‘pseudopotential.png’, dpi=300, format = ‘png’)
# plt.savefig(‘pseudopotential.eps’, format = ‘eps’)


# plot the fitting of pseudopotential and calculate the secular frequency
plt.rcParams.update({'font.size': 6,
                     'lines.markersize': 12,
                     'lines.linewidth': 1.5,
                     'xtick.labelsize': 8,
                     'ytick.labelsize': 8,
                     'errorbar.capsize': 2})
fit_range = 10E-6 # in SI
x_SI = x*scale
y_SI = y*scale
px = pp_rf[:, b, c]*e # in J, SI units
py = pp_rf[a,:,c]*e # in J


fit_xlim1 = x_SI[np.argmin(px)]-fit_range
fit_xlim2 = x_SI[np.argmin(px)]+fit_range
argx1 = np.argmin(np.abs(x_SI - fit_xlim1))
argx2 = np.argmin(np.abs(x_SI - fit_xlim2))
print(argx1,argx2)
fit_ylim1 = y_SI[np.argmin(py)]-fit_range
fit_ylim2 = y_SI[np.argmin(py)]+fit_range
argy1 = np.argmin(np.abs(y_SI - fit_ylim1))
argy2 = np.argmin(np.abs(y_SI - fit_ylim2))
print(argy1,argy2)

def parabola(x, x0, amp):
    return amp * (x - x0)**2

def parabola0(x, amp):
    return amp * x**2

# def poly4(x, a1, a2, a4):
    # return a1 * x + a2 * x**2 + a4 * x**4

# d2Udx2 = 2* popt[1] + 12 * popt[2] * x_input**2


# fit the data
poptx, pcovx = curve_fit(parabola, x_SI[argx1:argx2], px[argx1:argx2], p0 = [x_SI[np.argmin(px)], 1E7])
x0 = poptx[0]
x_amp = poptx[1]
x_coordinates = x_SI - x0


popty, pcovy = curve_fit(parabola, y_SI[argy1:argy2],py[argy1:argy2], p0 = [y_SI[np.argmin(py)], 1E7])
y0 = popty[0]
y_amp = popty[1]
y_coordinates = y_SI - y0

#############################################################
k = 10
x_range = np.linspace(k*x_coordinates[0],k*x_coordinates[-1], 1000)
y_range = np.linspace(k*y_coordinates[0],k*y_coordinates[-1], 1000)
fit_x = parabola0(x_range, x_amp)
fit_y = parabola0(y_range, y_amp)
Uminx = np.argmin(fit_x)
Uminy = np.argmin(fit_y)
# pseudofit = poly4(x_input,*popt)
# Uminv = np.argmin(pseudofit)
fit_x_match = parabola0(x_coordinates, x_amp)
fit_y_match = parabola0(y_coordinates, y_amp)
d2Udx2 = 2*x_amp
trapf_x = TrapFrequency(d2Udx2,m_e)
print ('x trap frequency is about ' + str(trapf_x/1E6) + ' MHz')
# print ('x trap frequency is about ' + str(trapf_x[Uminx]/1E6) + ' MHz')
d2Udy2 = 2*y_amp
trapf_y = TrapFrequency(d2Udy2,m_e)
print ('y trap frequency is about ' + str(trapf_y/1E6) + ' MHz')


fig, (ax1, ax2) = plt.subplots(2,1,sharex = True, gridspec_kw={'height_ratios': [3, 1]},figsize=(3.4,3.5), dpi = 200)
ax1.plot(x_coordinates*1E6, px/e, '-')
ax1.plot(x_range*1E6, fit_x/e, '--',label = "fx = {:.2f} MHz".format(trapf_x/1E6))
ax1.grid()
# ax1.set_xticks([-0.0002, -0.0001, 0, 0.0001, 0.0002])
# ax1.set_xticklabels([-200, -100, 0, 100, 200])
ax1.set_ylim(-1E-3, k**2*np.max(px)*1.1/e)
ax1.set_ylabel('Pseudopotential (eV)', size = 8)
# ax1.add_patch(Rectangle((-0.0005, -0.09), 0.00005,np.max(energy_v_eV)*1.1 + 0.09, color = 'yellow', fill = True))
# ax1.add_patch(Rectangle((0.0005, -0.09), -0.00005,np.max(energy_v_eV)*1.1 + 0.09, color = 'yellow', fill = True))
# ax1.add_patch(Rectangle((-0.0009, -0.09), 0.0004,np.max(energy_v_eV)*1.1 + 0.09, color = 'darkgrey', linestyle = '-', linewidth = '1.0', fill = False, hatch = '//////'))
# ax1.add_patch(Rectangle((0.0009, -0.09), -0.0004,np.max(energy_v_eV)*1.1 + 0.09, color = 'darkgrey', linestyle = '-', linewidth = '1.0', fill = False, hatch = '//////'))
# ax1.add_patch(Rectangle((-0.0005, -0.09), 0.00005,np.max(energy_v_eV)*1.1 + 0.09, color = 'yellow', fill = True))
ax2.plot(x_coordinates*1E6,(px-fit_x_match)/e, '-', color = 'C2')
ax2.set_xlabel('x coordinate (um)', size = 8)
ax2.set_ylabel('$\Delta$ (eV)', size = 8)
ax2.set_ylim(-0.05, 0.05)
# ax2.set_xlim(-0.0007, 0.0007)
ax2.set_xlim(k*x_coordinates[0]*1E6, k*x_coordinates[-1]*1E6)
ax2.axhline(y = 0, color = 'grey', linestyle = '-.')
fig.align_ylabels()
fig.tight_layout()
# plt.savefig('Electron_3layer_pseudo_y_1p6GHz_90V.png', bbox_inches = 'tight')
ax1.legend()
plt.grid()
plt.show()

fig, (ax1, ax2) = plt.subplots(2,1,sharex = True, gridspec_kw={'height_ratios': [3, 1]},figsize=(3.4,3.5), dpi = 200)
ax1.plot(y_coordinates*1E6, py/e, '-')
ax1.plot(y_range*1E6, fit_y/e, '--',label = "fy = {:.2f} MHz".format(trapf_y/1E6))
# ax1.set_xticks([-0.0002, -0.0001, 0, 0.0001, 0.0002])
# ax1.set_xticklabels([-200, -100, 0, 100, 200])
ax1.set_ylim(-1E-3, k**2*np.max(py)*1.1/e)
ax1.grid()
ax1.set_ylabel('Pseudopotential (eV)', size = 8)
ax2.plot(y_coordinates*1E6,(py-fit_y_match)/e, '-', color = 'C2')
ax2.set_xlabel('y coordinate (um)', size = 8)
ax2.set_ylabel('$\Delta$ (eV)', size = 8)
ax2.set_ylim(-0.05, 0.05)
# ax2.set_xlim(-0.0007, 0.0007)
ax2.set_xlim(k*y_coordinates[0]*1E6, k*y_coordinates[-1]*1E6)
ax2.axhline(y = 0, color = 'grey', linestyle = '-.')
fig.align_ylabels()
fig.tight_layout()
ax1.legend()
plt.grid()
# plt.savefig('Electron_3layer_pseudo_x_1p6GHz_90V.png', bbox_inches = 'tight')
plt.show()


'''
trap frequency ~ linear with V
trap depth ~ linear with V square
a V that can give us same beta = 0.5*0.3/1.6 = 0.5*0.1875
for each drive frequency, simulate the trap depth (@ 200 um) and trap frequency, -> the voltage -> the trap depth
'''


pp_rf1 = result_rf1.field_square / scale**2
rf1_field = result_rf1.field / scale
pp_rf2 = result_rf2.field_square / scale**2
rf2_field = result_rf2.field / scale
rf_op = np.square(rf1_field - rf2_field).sum(axis=0).reshape(result_rf1.grid.shape)
grid_x = result_rf1.grid.to_mgrid()[0]
grid_y = result_rf1.grid.to_mgrid()[1]
grid_z = result_rf1.grid.to_mgrid()[2]
pp_rf_use = pp_rf1

omegas = np.linspace(1,5,20)#[1,1.5,2,2.5,3,3.5,4,4.5,5,5.5,6]
Ω_es = [2*np.pi*1e9*omega for omega in omegas]
Vs = []
trap_depths = []
for Ω_e in Ω_es:
    V = 20
    pp_rf = PseudoPotential(pp_rf_use,m_e,Ω_e,V)
    index, rf_null = FindRFNull(pp_rf,z,scale)
    a = int(np.floor(pp_rf.shape[0]/2))
    b = int(np.floor(pp_rf.shape[1]/2))
    c = index
    # fit the trap frequency using V = 10V data
    fit_range = 10E-6 # in SI
    x_SI = x*scale
    y_SI = y*scale
    px = pp_rf[:, b, c]*e # in J, SI units
    py = pp_rf[a,:,c]*e # in J


    fit_xlim1 = x_SI[np.argmin(px)]-fit_range
    fit_xlim2 = x_SI[np.argmin(px)]+fit_range
    argx1 = np.argmin(np.abs(x_SI - fit_xlim1))
    argx2 = np.argmin(np.abs(x_SI - fit_xlim2))
    print(argx1,argx2)
    fit_ylim1 = y_SI[np.argmin(py)]-fit_range
    fit_ylim2 = y_SI[np.argmin(py)]+fit_range
    argy1 = np.argmin(np.abs(y_SI - fit_ylim1))
    argy2 = np.argmin(np.abs(y_SI - fit_ylim2))
    print(argy1,argy2)

    def parabola(x, x0, amp):
        return amp * (x - x0)**2

    def parabola0(x, amp):
        return amp * x**2

    # fit the data
    poptx, pcovx = curve_fit(parabola, x_SI[argx1:argx2], px[argx1:argx2], p0 = [x_SI[np.argmin(px)], 1E7])
    x0 = poptx[0]
    x_amp = poptx[1]
    x_coordinates = x_SI - x0
    popty, pcovy = curve_fit(parabola, y_SI[argy1:argy2],py[argy1:argy2], p0 = [y_SI[np.argmin(py)], 1E7])
    y0 = popty[0]
    y_amp = popty[1]
    y_coordinates = y_SI - y0 
    d2Udx2 = 2*x_amp
    trapf_x = TrapFrequency(d2Udx2,m_e)
    # print ('x trap frequency is about ' + str(trapf_x/1E6) + ' MHz')
    # print ('x trap frequency is about ' + str(trapf_x[Uminx]/1E6) + ' MHz')
    d2Udy2 = 2*y_amp
    trapf_y = TrapFrequency(d2Udy2,m_e)
    # print ('y trap frequency is about ' + str(trapf_y/1E6) + ' MHz')
    
    
    
#     fit_range = 10E-6 # in SI
#     x_SI = x*scale
#     y_SI = y*scale
#     px = pp_rf[:, b, c]*e # in J, SI units
#     py = pp_rf[a,:,c]*e # in J
#     fit_xlim1 = x_SI[np.argmin(px)]-fit_range
#     fit_xlim2 = x_SI[np.argmin(px)]+fit_range
#     argx1 = np.argmin(np.abs(x_SI - fit_xlim1))
#     argx2 = np.argmin(np.abs(x_SI - fit_xlim2))
#     fit_ylim1 = y_SI[np.argmin(py)]-fit_range
#     fit_ylim2 = y_SI[np.argmin(py)]+fit_range
#     argy1 = np.argmin(np.abs(y_SI - fit_ylim1))
#     argy2 = np.argmin(np.abs(y_SI - fit_ylim2))
#     # fit the data
#     poptx, pcovx = curve_fit(parabola, x_SI[argx1:argx2], px[argx1:argx2], p0 = [x_SI[np.argmin(px)], 1E7])
#     x0 = poptx[0]
#     x_amp = poptx[1]
#     x_coordinates = x_SI - x0
#     popty, pcovy = curve_fit(parabola, y_SI[argy1:argy2],py[argy1:argy2], p0 = [y_SI[np.argmin(py)], 1E7])
#     y0 = popty[0]
#     y_amp = popty[1]
#     y_coordinates = y_SI - y0
#     d2Udx2 = 2*x_amp
#     trapf_x = TrapFrequency(d2Udx2,m_e) # in Hz
#     print(trapf_x/2/np.pi/1e6)
#     d2Udy2 = 2*y_amp
#     trapf_y = TrapFrequency(d2Udy2,m_e) # in Hz
#     # find the right V by keeping beta the same: desired trapf_x = drive*0.1875 -> desired voltage = 10V * desired trapf_x/trapf_x
    
    V = V*0.1875*Ω_e/(2*np.pi*(trapf_x+trapf_y)/2)
    # print(V)
    Vs.append(V)
    pp_rf = PseudoPotential(pp_rf_use,m_e,Ω_e,V)
    index, rf_null = FindRFNull(pp_rf,z,scale)
    a = int(np.floor(pp_rf.shape[0]/2))
    b = int(np.floor(pp_rf.shape[1]/2))
    c = index 
    pp_rf_x = pp_rf[:, b, c]
    pp_rf_y = pp_rf[a,:,c]
    trap_depth_x = np.max(pp_rf_x)
    trap_depth_y = np.max(pp_rf_y)
    trap_depths.append((trap_depth_x+trap_depth_y)/2)

    
plt.rcParams.update({'font.size': 14,
                     'lines.markersize': 12,
                     'lines.linewidth': 2.5,
                     'xtick.labelsize': 15,
                     'ytick.labelsize': 15,
                     'errorbar.capsize': 2})
fig,ax = plt.subplots(2,1,figsize = (8,6))
ax1 = ax[0] 
ax1.plot(omegas, Vs,label = r"ß = 0.09375")
# ax1.set_xlabel("Drive frequency (GHz)")
ax1.set_ylabel("RF amplitude (V)")
ax1.grid()
ax1.legend()

ax2 = ax[1]
ax2.plot(omegas, trap_depths,label = r"ß = 0.09375")
ax2.set_xlabel("Drive frequency (GHz)")
ax2.set_ylabel("Trap depth (eV)")
ax2.grid()
ax2.legend()









# Plot the field square along symmetric axis (x=0,y=0) and find the z axis of rf null
get_ipython().run_line_magic("matplotlib", " inline")
pp_rf1 = result_rf1.field_square / scale**2
rf1_field = result_rf1.field / scale
pp_rf2 = result_rf2.field_square / scale**2
rf2_field = result_rf2.field / scale
rf_op = np.square(rf1_field - rf2_field).sum(axis=0).reshape(result_rf1.grid.shape)
grid_x = result_rf1.grid.to_mgrid()[0]
grid_y = result_rf1.grid.to_mgrid()[1]
grid_z = result_rf1.grid.to_mgrid()[2]

pp_rf = pp_rf1
# pp_rf = rf_op
Ω_e = 2*np.pi*1.6e9
Ω_Ca = 2*np.pi*50e6
V = 150
# pp_rf = PseudoPotential(pp_rf,m_e,Ω_e,V)
pp_rf = PseudoPotential(pp_rf,m_Ca,Ω_Ca,V)
index, rf_null = FindRFNull(pp_rf,z,scale)
a = int(np.floor(pp_rf.shape[0]/2))
b = int(np.floor(pp_rf.shape[1]/2))
plt.plot(z*scale*1e6, pp_rf[a, b, :])
plt.xlabel("Trap height (um)")
plt.ylabel("Pseudo potential (eV)")
plt.axvline(x = rf_null, color = 'grey', linestyle = '-.',label="h = 189 um")
plt.grid()
plt.legend()
# z.shape
# pp_rf.shape
# plt.show()
print("RF Null is at %s um"%rf_null)
print("z index of rf null is %s"%index)


# plot the pseudopotential in x and y direction
pp_rf = rf_op # out of phase rf

Ω_e = 2*np.pi*5e9
Ω_Ca = 2*np.pi*80e6
V = 150
# pp_rf = PseudoPotential(pp_rf,m_e,Ω_e,V)
pp_rf = PseudoPotential(pp_rf,m_Ca,Ω_Ca,V) # 2 pair of rf
index, rf_null = FindRFNull(pp_rf,z,scale)
a = int(np.floor(pp_rf.shape[0]/2))
b = int(np.floor(pp_rf.shape[1]/2))
c = index
plt.plot(x*scale*1e6, pp_rf[:, b, c],label = "Pseudo potential along x")
plt.plot(y*scale*1e6,pp_rf[a,:,c],label = "Pseudo potential along y")
plt.xlabel("Distance (um)")
plt.ylabel("Pseudopotential (eV)")
plt.grid()
plt.legend()


pp_plot = np.around(pp_rf, decimals=2)
x, y, z = result_rf1.grid.to_xyz()
plt.rcParams.update({'font.size': 14,
                     'lines.markersize': 12,
                     'lines.linewidth': 2.5,
                     'xtick.labelsize': 15,
                     'ytick.labelsize': 15,
                     'errorbar.capsize': 2})
fig, ax = plt.subplots(figsize = (8,6))
for i in range(len(pp_plot[:, :, c])):
    for j in range(len(pp_plot[i, :, c])):
        if pp_plot[i, j, c] < 0.01:
            pp_plot[i, j, c] = 0.01
max_pp = np.log10(np.max(pp_rf))
level = np.logspace(-2, 1, 1000, base = 10, endpoint = True) # min max level in the plot
contp = ax.contourf(100 * x[:], 100 * y[:],
                    pp_plot[:, :, c],
                    locator=ticker.LogLocator(),
                    levels = level,
                    cmap = "seismic")
cbar = fig.colorbar(contp,
                    ticks = [0.001, 0.01,0.1,1,10,100, 1000]
                   )
ax.set_aspect('equal')
ax.set_xlabel("x (µm)")
ax.set_ylabel("y (µm)")
cbar.ax.set_ylabel("Pseudopotential (eV)")
cbar.ax.set_yscale("log")
# plt.savefig(‘pseudopotential.png’, dpi=300, format = ‘png’)
# plt.savefig(‘pseudopotential.eps’, format = ‘eps’)


# plot the fitting of pseudopotential and calculate the secular frequency
plt.rcParams.update({'font.size': 6,
                     'lines.markersize': 12,
                     'lines.linewidth': 1.5,
                     'xtick.labelsize': 8,
                     'ytick.labelsize': 8,
                     'errorbar.capsize': 2})
fit_range = 10E-6 # in SI
x_SI = x*scale
y_SI = y*scale
px = pp_rf[:, b, c]*e # in J, SI units
py = pp_rf[a,:,c]*e # in J


fit_xlim1 = x_SI[np.argmin(px)]-fit_range
fit_xlim2 = x_SI[np.argmin(px)]+fit_range
argx1 = np.argmin(np.abs(x_SI - fit_xlim1))
argx2 = np.argmin(np.abs(x_SI - fit_xlim2))
print(argx1,argx2)
fit_ylim1 = y_SI[np.argmin(py)]-fit_range
fit_ylim2 = y_SI[np.argmin(py)]+fit_range
argy1 = np.argmin(np.abs(y_SI - fit_ylim1))
argy2 = np.argmin(np.abs(y_SI - fit_ylim2))
print(argy1,argy2)

def parabola(x, x0, amp):
    return amp * (x - x0)**2

def parabola0(x, amp):
    return amp * x**2

# def poly4(x, a1, a2, a4):
    # return a1 * x + a2 * x**2 + a4 * x**4

# d2Udx2 = 2* popt[1] + 12 * popt[2] * x_input**2


# fit the data
poptx, pcovx = curve_fit(parabola, x_SI[argx1:argx2], px[argx1:argx2], p0 = [x_SI[np.argmin(px)], 1E7])
x0 = poptx[0]
x_amp = poptx[1]
x_coordinates = x_SI - x0


popty, pcovy = curve_fit(parabola, y_SI[argy1:argy2],py[argy1:argy2], p0 = [y_SI[np.argmin(py)], 1E7])
y0 = popty[0]
y_amp = popty[1]
y_coordinates = y_SI - y0

#############################################################
x_range = np.linspace(x_coordinates[0],x_coordinates[-1], 1000)
y_range = np.linspace(y_coordinates[0],y_coordinates[-1], 1000)
fit_x = parabola0(x_range, x_amp)
fit_y = parabola0(y_range, y_amp)
Uminx = np.argmin(fit_x)
Uminy = np.argmin(fit_y)
# pseudofit = poly4(x_input,*popt)
# Uminv = np.argmin(pseudofit)
fit_x_match = parabola0(x_coordinates, x_amp)
fit_y_match = parabola0(y_coordinates, y_amp)
d2Udx2 = 2*x_amp
trapf_x = TrapFrequency(d2Udx2,m_Ca)
print ('x trap frequency is about ' + str(trapf_x/1E6) + ' MHz')
# print ('x trap frequency is about ' + str(trapf_x[Uminx]/1E6) + ' MHz')
d2Udy2 = 2*y_amp
trapf_y = TrapFrequency(d2Udy2,m_Ca)
print ('y trap frequency is about ' + str(trapf_y/1E6) + ' MHz')


fig, (ax1, ax2) = plt.subplots(2,1,sharex = True, gridspec_kw={'height_ratios': [3, 1]},figsize=(3.4,3.5), dpi = 200)
ax1.plot(x_coordinates*1E6, px/e, '-')
ax1.plot(x_range*1E6, fit_x/e, '--',label = "fx = {:.2f} MHz".format(trapf_x/1E6))
ax1.grid()
# ax1.set_xticks([-0.0002, -0.0001, 0, 0.0001, 0.0002])
# ax1.set_xticklabels([-200, -100, 0, 100, 200])
ax1.set_ylim(-1E-3, np.max(px)*1.1/e)
ax1.set_ylabel('Pseudopotential (eV)', size = 8)
# ax1.add_patch(Rectangle((-0.0005, -0.09), 0.00005,np.max(energy_v_eV)*1.1 + 0.09, color = 'yellow', fill = True))
# ax1.add_patch(Rectangle((0.0005, -0.09), -0.00005,np.max(energy_v_eV)*1.1 + 0.09, color = 'yellow', fill = True))
# ax1.add_patch(Rectangle((-0.0009, -0.09), 0.0004,np.max(energy_v_eV)*1.1 + 0.09, color = 'darkgrey', linestyle = '-', linewidth = '1.0', fill = False, hatch = '//////'))
# ax1.add_patch(Rectangle((0.0009, -0.09), -0.0004,np.max(energy_v_eV)*1.1 + 0.09, color = 'darkgrey', linestyle = '-', linewidth = '1.0', fill = False, hatch = '//////'))
# ax1.add_patch(Rectangle((-0.0005, -0.09), 0.00005,np.max(energy_v_eV)*1.1 + 0.09, color = 'yellow', fill = True))
ax2.plot(x_coordinates*1E6,(px-fit_x_match)/e, '-', color = 'C2')
ax2.set_xlabel('x coordinate (um)', size = 8)
ax2.set_ylabel('$\Delta$ (eV)', size = 8)
ax2.set_ylim(-0.05, 0.05)
# ax2.set_xlim(-0.0007, 0.0007)
ax2.set_xlim(x_coordinates[0]*1E6, x_coordinates[-1]*1E6)
ax2.axhline(y = 0, color = 'grey', linestyle = '-.')
fig.align_ylabels()
fig.tight_layout()
# plt.savefig('Electron_3layer_pseudo_y_1p6GHz_90V.png', bbox_inches = 'tight')
ax1.legend()
plt.grid()
plt.show()

fig, (ax1, ax2) = plt.subplots(2,1,sharex = True, gridspec_kw={'height_ratios': [3, 1]},figsize=(3.4,3.5), dpi = 200)
ax1.plot(y_coordinates*1E6, py/e, '-')
ax1.plot(y_range*1E6, fit_y/e, '--',label = "fy = {:.2f} MHz".format(trapf_y/1E6))
# ax1.set_xticks([-0.0002, -0.0001, 0, 0.0001, 0.0002])
# ax1.set_xticklabels([-200, -100, 0, 100, 200])
ax1.set_ylim(-1E-3, np.max(py)*1.1/e)
ax1.grid()
ax1.set_ylabel('Pseudopotential (eV)', size = 8)
ax2.plot(y_coordinates*1E6,(py-fit_y_match)/e, '-', color = 'C2')
ax2.set_xlabel('y coordinate (um)', size = 8)
ax2.set_ylabel('$\Delta$ (eV)', size = 8)
ax2.set_ylim(-0.05, 0.05)
# ax2.set_xlim(-0.0007, 0.0007)
ax2.set_xlim(y_coordinates[0]*1E6, y_coordinates[-1]*1E6)
ax2.axhline(y = 0, color = 'grey', linestyle = '-.')
fig.align_ylabels()
fig.tight_layout()
ax1.legend()
plt.grid()
# plt.savefig('Electron_3layer_pseudo_x_1p6GHz_90V.png', bbox_inches = 'tight')
plt.show()


# plot trap frequency versus drive frequency given a 150 V voltage on both rf oop pairs
# plot the pseudopotential in x and y direction

trapf_xs = []
trapf_ys = []

Ωs = 2*np.pi*1e6*np.arange(50,160,5)
# Ωs = np.array([2*np.pi*80e6])
# c = index
for i in range(len(Ωs)):
    pp_rf = rf_op # out of phase rf
    V = 150
    pp_rf = PseudoPotential(pp_rf,m_Ca,Ωs[i],V) # 2 pair of rf
    fit_range = 10E-6 # in SI
    x_SI = x*scale
    y_SI = y*scale
    px = pp_rf[:, b, c]*e # in J, SI units
    py = pp_rf[a,:,c]*e # in J
    fit_xlim1 = x_SI[np.argmin(px)]-fit_range
    fit_xlim2 = x_SI[np.argmin(px)]+fit_range
    argx1 = np.argmin(np.abs(x_SI - fit_xlim1))
    argx2 = np.argmin(np.abs(x_SI - fit_xlim2))
    fit_ylim1 = y_SI[np.argmin(py)]-fit_range
    fit_ylim2 = y_SI[np.argmin(py)]+fit_range
    argy1 = np.argmin(np.abs(y_SI - fit_ylim1))
    argy2 = np.argmin(np.abs(y_SI - fit_ylim2))

    # fit the data
    poptx, pcovx = curve_fit(parabola, x_SI[argx1:argx2], px[argx1:argx2], p0 = [x_SI[np.argmin(px)], 1E7])
    x0 = poptx[0]
    x_amp = poptx[1]
    d2Udx2 = 2*x_amp
    trapf_x = TrapFrequency(d2Udx2,m_Ca)
    trapf_xs.append(trapf_x)
    
    popty, pcovy = curve_fit(parabola, y_SI[argy1:argy2],py[argy1:argy2], p0 = [y_SI[np.argmin(py)], 1E7])
    y0 = popty[0]
    y_amp = popty[1]
    d2Udy2 = 2*y_amp
    trapf_y = TrapFrequency(d2Udy2,m_Ca)
    trapf_ys.append(trapf_y)
   
# trapf_ys
plt.rcParams.update({'font.size': 12,
                     'lines.markersize': 12,
                     'lines.linewidth': 2.5,
                     'xtick.labelsize': 12,
                     'ytick.labelsize': 12,
                     'errorbar.capsize': 2})
plt.plot(Ωs/(2*np.pi*1e6),[trapf_x/1e6 for trapf_x in trapf_xs],label = "x direction")
plt.plot(Ωs/(2*np.pi*1e6),[trapf_y/1e6 for trapf_y in trapf_ys],label = "y direction")
plt.xlabel("Drive frequency (MHz)")
plt.ylabel("Trap frequency (MHz)")
plt.legend()
plt.grid()
plt.title("trap frequency at 160um height, 150V oop drive")
plt.show()
    
    



# sanity symmetry check
result_dc3 = Result.from_vtk(prefix+suffix, "DC3")
result_dc7 = Result.from_vtk(prefix+suffix, "DC7")
p_dc3 = result_dc3.potential
p_dc7 = result_dc7.potential
plt.plot(z, p_dc3[a, b, :])
plt.plot(z, p_dc7[a, b, :])


# plot potential along central axial direction
get_ipython().run_line_magic("matplotlib", " inline")
t0 = time()
fig,ax = plt.subplots(11,1,figsize = (10,30))
for i in range(9):
    ele = "DC" + str(i)
    result = Result.from_vtk(prefix+suffix, ele)
    p = result.potential
    ax[i].plot(z, p[a, b, :])
    ax[i].set_title(ele)
for i in range(9, 11):
    ele = "RF" + str(i-8)
    result = Result.from_vtk(prefix+suffix, ele)
    p = result.potential
    ax[i].plot(z, p[a, b, :])
    ax[i].set_title(ele)
fig.tight_layout(pad=1)
print("Computing time: %f s"%(time()-t0))





# Plot the field square along symmetric axis (x=0,y=0) and find the z axis of rf null
get_ipython().run_line_magic("matplotlib", " inline")
pp_rf1 = result_rf1.field_square / scale**2
rf1_field = result_rf1.field / scale
pp_rf2 = result_rf2.field_square / scale**2
rf2_field = result_rf2.field / scale
rf_op = np.square(rf1_field - rf2_field).sum(axis=0).reshape(result_rf1.grid.shape)
grid_x = result_rf1.grid.to_mgrid()[0]
grid_y = result_rf1.grid.to_mgrid()[1]
grid_z = result_rf1.grid.to_mgrid()[2]

pp_rf = pp_rf1
# pp_rf = rf_op
Ω_e = 2*np.pi*1.6e9
Ω_Ca = 2*np.pi*50e6
V = 10
pp_rf = PseudoPotential(pp_rf,m_e,Ω_e,V)
# pp_rf = PseudoPotential(pp_rf,m_Ca,Ω_Ca,V)
index, rf_null = FindRFNull(pp_rf,z,scale)
a = int(np.floor(pp_rf.shape[0]/2))
b = int(np.floor(pp_rf.shape[1]/2))
plt.plot(z[31:]*scale*1e6, pp_rf[a, b, 31:])
plt.xlabel("Trap height (um)")
plt.ylabel("Pseudo potential (eV)")
plt.axvline(x = 189, color = 'grey', linestyle = '-.',label="h = 189 um")
plt.grid()
plt.legend()
# z.shape
# pp_rf.shape
# plt.show()
print("RF Null is at %s um"%rf_null)
print("z index of rf null is %s"%index)


# plot the pseudopotential in x and y direction
pp_rf = rf_op # out of phase rf

Ω_e = 2*np.pi*1.6e9
Ω_Ca = 2*np.pi*80e6
V = 1
pp_rf = PseudoPotential(pp_rf,m_e,Ω_e,V)
# pp_rf = PseudoPotential(pp_rf,m_Ca,Ω_Ca,V) # 2 pair of rf
index, rf_null = FindRFNull(pp_rf,z,scale)
c = index
plt.plot(x*scale*1e6, pp_rf[:, b, c],label = "Pseudo potential along x")
plt.plot(y*scale*1e6,pp_rf[a,:,c],label = "Pseudo potential along y")
plt.xlabel("Distance (um)")
plt.ylabel("Pseudopotential (eV)")
plt.grid()
plt.legend()


pp_plot = np.around(pp_rf, decimals=2)
x, y, z = result_rf1.grid.to_xyz()
plt.rcParams.update({'font.size': 14,
                     'lines.markersize': 12,
                     'lines.linewidth': 2.5,
                     'xtick.labelsize': 15,
                     'ytick.labelsize': 15,
                     'errorbar.capsize': 2})
fig, ax = plt.subplots(figsize = (8,6))
for i in range(len(pp_plot[:, :, c])):
    for j in range(len(pp_plot[i, :, c])):
        if pp_plot[i, j, c] < 0.0001:
            pp_plot[i, j, c] = 0.0001
max_pp = np.log10(np.max(pp_rf))
level = np.logspace(-4, 0, 1000, base = 10, endpoint = True) # min max level in the plot
contp = ax.contourf(100 * x[:], 100 * y[:],
                    pp_plot[:, :, c],
                    locator=ticker.LogLocator(),
                    levels = level,
                    cmap = "seismic")
cbar = fig.colorbar(contp,
                    ticks = [0.001, 0.01,0.1,1,10,100, 1000]
                   )
ax.set_aspect('equal')
ax.set_xlabel("x (µm)")
ax.set_ylabel("y (µm)")
cbar.ax.set_ylabel("Pseudopotential (eV)")
cbar.ax.set_yscale("log")
# plt.savefig(‘pseudopotential.png’, dpi=300, format = ‘png’)
# plt.savefig(‘pseudopotential.eps’, format = ‘eps’)


# plot the fitting of pseudopotential and calculate the secular frequency
plt.rcParams.update({'font.size': 6,
                     'lines.markersize': 12,
                     'lines.linewidth': 1.5,
                     'xtick.labelsize': 8,
                     'ytick.labelsize': 8,
                     'errorbar.capsize': 2})
fit_range = 10E-6 # in SI
x_SI = x*scale
y_SI = y*scale
px = pp_rf[:, b, c]*e # in J, SI units
py = pp_rf[a,:,c]*e # in J


fit_xlim1 = x_SI[np.argmin(px)]-fit_range
fit_xlim2 = x_SI[np.argmin(px)]+fit_range
argx1 = np.argmin(np.abs(x_SI - fit_xlim1))
argx2 = np.argmin(np.abs(x_SI - fit_xlim2))
print(argx1,argx2)
fit_ylim1 = y_SI[np.argmin(py)]-fit_range
fit_ylim2 = y_SI[np.argmin(py)]+fit_range
argy1 = np.argmin(np.abs(y_SI - fit_ylim1))
argy2 = np.argmin(np.abs(y_SI - fit_ylim2))
print(argy1,argy2)

def parabola(x, x0, amp):
    return amp * (x - x0)**2

def parabola0(x, amp):
    return amp * x**2

# def poly4(x, a1, a2, a4):
    # return a1 * x + a2 * x**2 + a4 * x**4

# d2Udx2 = 2* popt[1] + 12 * popt[2] * x_input**2


# fit the data
poptx, pcovx = curve_fit(parabola, x_SI[argx1:argx2], px[argx1:argx2], p0 = [x_SI[np.argmin(px)], 1E7])
x0 = poptx[0]
x_amp = poptx[1]
x_coordinates = x_SI - x0


popty, pcovy = curve_fit(parabola, y_SI[argy1:argy2],py[argy1:argy2], p0 = [y_SI[np.argmin(py)], 1E7])
y0 = popty[0]
y_amp = popty[1]
y_coordinates = y_SI - y0

#############################################################
k = 10
x_range = np.linspace(k*x_coordinates[0],k*x_coordinates[-1], 1000)
y_range = np.linspace(k*y_coordinates[0],k*y_coordinates[-1], 1000)
fit_x = parabola0(x_range, x_amp)
fit_y = parabola0(y_range, y_amp)
Uminx = np.argmin(fit_x)
Uminy = np.argmin(fit_y)
# pseudofit = poly4(x_input,*popt)
# Uminv = np.argmin(pseudofit)
fit_x_match = parabola0(x_coordinates, x_amp)
fit_y_match = parabola0(y_coordinates, y_amp)
d2Udx2 = 2*x_amp
trapf_x = TrapFrequency(d2Udx2,m_e)
print ('x trap frequency is about ' + str(trapf_x/1E6) + ' MHz')
# print ('x trap frequency is about ' + str(trapf_x[Uminx]/1E6) + ' MHz')
d2Udy2 = 2*y_amp
trapf_y = TrapFrequency(d2Udy2,m_e)
print ('y trap frequency is about ' + str(trapf_y/1E6) + ' MHz')


fig, (ax1, ax2) = plt.subplots(2,1,sharex = True, gridspec_kw={'height_ratios': [3, 1]},figsize=(3.4,3.5), dpi = 200)
ax1.plot(x_coordinates*1E6, px/e, '-')
ax1.plot(x_range*1E6, fit_x/e, '--',label = "fx = {:.2f} MHz".format(trapf_x/1E6))
ax1.grid()
# ax1.set_xticks([-0.0002, -0.0001, 0, 0.0001, 0.0002])
# ax1.set_xticklabels([-200, -100, 0, 100, 200])
ax1.set_ylim(-1E-3, k**2*np.max(px)*1.1/e)
ax1.set_ylabel('Pseudopotential (eV)', size = 8)
# ax1.add_patch(Rectangle((-0.0005, -0.09), 0.00005,np.max(energy_v_eV)*1.1 + 0.09, color = 'yellow', fill = True))
# ax1.add_patch(Rectangle((0.0005, -0.09), -0.00005,np.max(energy_v_eV)*1.1 + 0.09, color = 'yellow', fill = True))
# ax1.add_patch(Rectangle((-0.0009, -0.09), 0.0004,np.max(energy_v_eV)*1.1 + 0.09, color = 'darkgrey', linestyle = '-', linewidth = '1.0', fill = False, hatch = '//////'))
# ax1.add_patch(Rectangle((0.0009, -0.09), -0.0004,np.max(energy_v_eV)*1.1 + 0.09, color = 'darkgrey', linestyle = '-', linewidth = '1.0', fill = False, hatch = '//////'))
# ax1.add_patch(Rectangle((-0.0005, -0.09), 0.00005,np.max(energy_v_eV)*1.1 + 0.09, color = 'yellow', fill = True))
ax2.plot(x_coordinates*1E6,(px-fit_x_match)/e, '-', color = 'C2')
ax2.set_xlabel('x coordinate (um)', size = 8)
ax2.set_ylabel('$\Delta$ (eV)', size = 8)
ax2.set_ylim(-0.05, 0.05)
# ax2.set_xlim(-0.0007, 0.0007)
ax2.set_xlim(k*x_coordinates[0]*1E6, k*x_coordinates[-1]*1E6)
ax2.axhline(y = 0, color = 'grey', linestyle = '-.')
fig.align_ylabels()
fig.tight_layout()
# plt.savefig('Electron_3layer_pseudo_y_1p6GHz_90V.png', bbox_inches = 'tight')
ax1.legend()
plt.grid()
plt.show()

fig, (ax1, ax2) = plt.subplots(2,1,sharex = True, gridspec_kw={'height_ratios': [3, 1]},figsize=(3.4,3.5), dpi = 200)
ax1.plot(y_coordinates*1E6, py/e, '-')
ax1.plot(y_range*1E6, fit_y/e, '--',label = "fy = {:.2f} MHz".format(trapf_y/1E6))
# ax1.set_xticks([-0.0002, -0.0001, 0, 0.0001, 0.0002])
# ax1.set_xticklabels([-200, -100, 0, 100, 200])
ax1.set_ylim(-1E-3, k**2*np.max(py)*1.1/e)
ax1.grid()
ax1.set_ylabel('Pseudopotential (eV)', size = 8)
ax2.plot(y_coordinates*1E6,(py-fit_y_match)/e, '-', color = 'C2')
ax2.set_xlabel('y coordinate (um)', size = 8)
ax2.set_ylabel('$\Delta$ (eV)', size = 8)
ax2.set_ylim(-0.05, 0.05)
# ax2.set_xlim(-0.0007, 0.0007)
ax2.set_xlim(k*y_coordinates[0]*1E6, k*y_coordinates[-1]*1E6)
ax2.axhline(y = 0, color = 'grey', linestyle = '-.')
fig.align_ylabels()
fig.tight_layout()
ax1.legend()
plt.grid()
# plt.savefig('Electron_3layer_pseudo_x_1p6GHz_90V.png', bbox_inches = 'tight')
plt.show()





import pickle


t0 = time()
nx = len(x)
ny = len(y)
nz = len(z)
ntotal = nx*ny*nz

trap = {'X': x/(1e-3/scale),
        'Y': y/(1e-3/scale),
        'Z': z/((1e-3/scale))} # in multipole code, x y z unit is in mm

for i in range(9):
    if i == 0:
        ele = "DC" + str(i+1)
        result = Result.from_vtk(prefix+suffix, ele)
        p = result.potential
        trap[ele] = {'potential': p}
    else:
        ele = "DC" + str(i+1)
        result = Result.from_vtk(prefix+suffix, ele)
        p = result.potential
        trap[ele] = {'potential': p}
for i in range(9, 11):
    ele = "RF" + str(i-8)
    result = Result.from_vtk(prefix+suffix, ele)
    p = result.potential
    trap[ele] = {'potential': p}

trap['DC0']['position'] = [0, 0]
trap['DC1']['position'] = [0, 2]
trap['DC2']['position'] = [0, 1]
trap['DC3']['position'] = [2, 0]
trap['DC4']['position'] = [1, 0]
trap['DC5']['position'] = [0, -2]
trap['DC6']['position'] = [0, -1]
trap['DC7']['position'] = [-2, 0]
trap['DC8']['position'] = [-1, 0]
trap['RF1']['position'] = [-3, 3]
trap['RF2']['position'] = [3, 3]

fout = './IonTrapLattice_21_1.pkl'

electrode_list = ['DC0','DC1', 'DC2', 'DC3', 'DC4', 'DC5', 'DC6', 'DC7', 'DC8', 'RF1', 'RF2']

f = open(fout, 'wb')
trap1 = {'X':trap['X'],
       'Y':trap['Y'],
       'Z':trap['Z'],
        'electrodes':{}}
for electrode in electrode_list:
    trap1['electrodes'][electrode] = trap[electrode]
pickle.dump(trap1, f, -1)
f.close()

print("Computing time: %f s"%(time()-t0))





m_e*2e-3**2/(e**2*1.58E6)



