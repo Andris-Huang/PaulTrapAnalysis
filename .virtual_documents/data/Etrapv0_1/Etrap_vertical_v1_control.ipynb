#import pickle
# add multipoles package path
#import sys
#sys.path.append('/Users/Qian/Documents/Pyckages')
# from Electrodes.multipoles import MultipoleControl

get_ipython().run_line_magic("matplotlib", " inline")
import numpy as np
import pandas as pd
#from itertools import compress
import matplotlib.pyplot as plt
# from mpl_toolkits.axes_grid1.inset_locator import inset_axes, InsetPosition, mark_inset, zoomed_inset_axes
# from mpl_toolkits.axes_grid.inset_locator import inset_axes, InsetPosition, mark_inset, zoomed_inset_axes
from ipywidgets import interactive  # interact
# import ipywidgets as widgets

# import sys
# sys.path.append('/Users/nem0x/Documents/GitHub/')
from PaulTrapAnalysis.components.Electrode import SimulatedElectrode
from PaulTrapAnalysis.components.Trap import Trap
from PaulTrapAnalysis.components.Multipoles import MultipoleControl

import warnings
warnings.filterwarnings('ignore')








def find_nearest(array, value):
    array = np.asarray(array)
    idx = (np.abs(array - value)).argmin()
    return array[idx]

def add_value_labels(ax, spacing=5):
    """Add labels to the end of each bar in a bar chart.

    Arguments:
        ax (matplotlib.axes.Axes): The matplotlib object containing the axes
            of the plot to annotate.
        spacing (int): The distance between the labels and the bars.
    """

    # For each bar: Place a label
    for rect in ax.patches:
        # Get X and Y placement of label from rect.
        y_value = rect.get_height()
        x_value = rect.get_x() + rect.get_width() / 2

        # Number of points between bar and label. Change to your liking.
        space = spacing
        # Vertical alignment for positive values
        va = 'bottom'

        # If value of bar is negative: Place label below bar
        if y_value < 0:
            # Invert space to place label below
            space *= -1
            # Vertically align label at top
            va = 'top'

        # Use Y value as label and format number with one decimal place
        label = "{:.3f}".format(y_value)

        # Create annotation
        ax.annotate(
            label,                      # Use `label` as label
            (x_value, y_value),         # Place label at end of the bar
            xytext=(0, space),          # Vertically shift label by `space`
            textcoords="offset points", # Interpret `xytext` as offset in points
            ha='center',                # Horizontally center label
            va=va)                      # Vertically align label differently for
                                        # positive and negative values.





# path = './3D_design_v7_newformat.pkl'
# f = open(path,'rb')
# trap = pickle.load(f)
prefix = "Etrap_vertical_v1_central_region"
electrode_list = [
                          'DC1', 'DC2', 'DC3', 'DC4', 'DC5', 'DC6', 'DC7', 'DC8','DC0',
                         'RF1', 'RF2'
                        ]
etrap_v4 = Trap()
for elec in electrode_list:
    print(elec)
    if elec == "DC0":
        etrap_v4.update_electrodes(SimulatedElectrode.from_vtk(elec_name = "DC0", scale = 10, file = prefix + '_' + "RF0" + '.vtk'))
    else:
        etrap_v4.update_electrodes(SimulatedElectrode.from_vtk(elec_name = elec, scale = 10, file = prefix + '_' + elec + '.vtk'))
#scale = new/old = 1 mm / 100 um, 100um: a0 in bem simulation, 1mm: unit in multipole expansion


position = [0,0,0.334] # trap location, in mm unit
nROI = 0.005 # expand the field in a 2*5 um cube
roi = [nROI,nROI,nROI]
order = 2 # expansion order
controlled_electrodes = [
                          'DC1', 'DC2', 'DC3', 'DC4', 'DC5', 'DC6', 'DC7', 'DC8','DC0'
    #'DC0',
                         # 'RF1', 'RF2'
                        ] # changed DC0 to be DC9 and changed the order
used_order1multipoles = ['Ey', 'Ez', 'Ex']
used_order2multipoles = ['U3', 'U4', 'U2', 'U5', 'U1']
used_multipoles = used_order1multipoles + used_order2multipoles
print(used_multipoles)





s = MultipoleControl(etrap_v4, position, roi, controlled_electrodes, used_multipoles, order)
print('Multipole names:', s.multipole_names)
print('Normalization factors:', s.normalization_factors)


s.multipole_expansion





v1 = pd.Series(np.zeros(len(controlled_electrodes)), index=controlled_electrodes)
vs = []
for ele in s.trap.names:
    v = v1.copy()
    v[ele] = 1
    vs.append(v)
# print vs

def plot_multipole_vs_expansion_height(height):
    position1 = [0, 0, height*1e-3]
    s.update_origin_roi(position1, roi)
#     print np.dot(s.multipole_expansions,vs[0])

    Nmulti = s.multipole_expansion.shape[0]

    fig,ax = plt.subplots(len(vs),1,figsize=(10, 24))
    for i,v in enumerate(vs):
        coeffs = s.setVoltages(v)
        ax[i].bar(range(Nmulti),coeffs)
        max_coeff = np.max(coeffs)
        min_coeff = np.min(coeffs)
        margin = (max_coeff - min_coeff)*0.5
        ymax = max_coeff + margin
        ymin = min_coeff - margin
        ax[i].set_ylim(ymin, ymax)
        ax[i].set_title(s.trap.names[i])
        fig.canvas.draw()
        add_value_labels(ax[i])
    plt.xticks(range(Nmulti), s.multipole_print_names, rotation=-90)
    fig.tight_layout(pad=1)
    plt.show()


#interactive_plot = interactive(plot_multipole_vs_expansion_height, height = (300, 400))
#output = interactive_plot.children[-1]
#output.layout.height = '2200px'
#interactive_plot
plot_multipole_vs_expansion_height(position[-1]*1e3)





height_list


#height_list = np.arange(330,380,5)
z_range = np.array(s.electrode_potential['RF1'].z)
height_list = np.arange(min(z_range), max(z_range), 5e-3)*1e3
numMUltipoles = len(s.multipole_print_names)
ne = len(s.trap.names)
multipoles_vs_height = np.zeros((len(height_list), numMUltipoles, ne))
for i, height in enumerate(height_list):
    position1 = [0,0,height*1e-3]
    s.update_origin_roi(position1, roi)
    multipoles_vs_height[i] = np.asarray(s.multipole_expansion.loc[s.multipole_names])

size = 15
fig,ax = plt.subplots(numMUltipoles,1,figsize=(10,40))

from matplotlib import cm
colormap = cm.get_cmap('tab20')
def update_colors(ax):
    lines = ax.lines
    colors = colormap(np.linspace(0, 1, len(lines)))
    for line, c in zip(lines, colors):
        line.set_color(c)


for i, mul in enumerate(s.multipole_print_names):
    for j, ele in enumerate(s.trap.names):
        ax[i].plot(height_list, multipoles_vs_height[:,i,j], label=ele)
        ax[i].set_title(mul, fontsize=size)
        #ax[i].set_xticks(np.arange(150,355,50))
#         ax[i].set_xlim(left=50, right=100)
        ax[i].tick_params(labelsize=size)
        ax[i].set_xlabel('Height (um)', fontsize=size)
    update_colors(ax[i])
    ax[i].legend(fontsize=size, bbox_to_anchor=(1, 1))
        
fig.canvas.draw()
fig.tight_layout(pad=1)





def plot_muls(height, ey, ez, ex, u3, u4, u2, u5, u1):
    position1 = [0,0,height*1e-3]
    s.update_origin_roi(position1, roi)
    multipole_coeffs = {'Ey': ey, 'Ez':ez, 'Ex': ex, 'U3':u3, 'U4':u4, 'U2':u2, 'U5':u5, 'U1':u1}
    voltages = s.setMultipoles(multipole_coeffs)
    # fig, (ax1, ax2) = plt.subplots(1, 2, figsize = (20,12))
    fig, ax1 = plt.subplots(figsize=(10,8))
    ax1.bar(s.controlled_elecs, voltages)
    ax1.set_xticklabels(s.controlled_elecs, rotation=45, fontsize=12)
    add_value_labels(ax1)
#     ax1.set_ylim(-25, 40)
    ax1.set_ylabel('V')
    
#interactive_plot = interactive(plot_muls, height=(min(z_range)*1e3, max(z_range)*1e3), ez=(-1, 1, 0.1), ex=(-1, 1, 0.1), ey=(-1, 1, 0.1), u2=(-10, 0, 0.5), u5=(-10, 10), u4 = (-10, 10), u1 = (-10, 10), u3 = (-10, 10))
#output = interactive_plot.children[-1]
#output.layout.height = '750px'
#interactive_plot
mul_values = {'ey': 0, 'ez': 0, 'ex': 0, 'u3': 0, 'u4': 0, 'u2': -1,
              'u5': 0, 'u1': 0}
plot_muls(position[-1]*1e3, **mul_values)





height_list = np.arange(50,255,5)
numMUltipoles = len(used_multipoles)
Coeffs = pd.DataFrame()
for height in height_list:
    position1 = [0,0,height*1e-3]
    s.update_origin_roi(position1, roi)
    
    Coeffs_temp = pd.Series(dtype = 'float64')
    for key in used_multipoles:
        multipole_coeffs = pd.Series(np.zeros(len(used_multipoles)), index = used_multipoles)
        multipole_coeffs[key] = 1
        voltages = s.setMultipoles(multipole_coeffs)
        max_v = np.max(abs(voltages))
        Coeffs_temp[key] = 10/max_v
    
    Coeffs[height] = Coeffs_temp

size = 25
# plt.rc('xtick', labelsize=size)    # fontsize of the tick labels
# plt.rc('ytick', labelsize=size)    # fontsize of the tick labels
fig, (ax1, ax2) = plt.subplots(1, 2, figsize = (20,12))
for mul in used_order1multipoles:
    ax1.plot(height_list, Coeffs.loc[mul], label = s.multipole_print_names[mul])
ax1.set_ylabel(r'1st order multipoles $(V/mm)$', fontsize = size)
ax1.set_xticks(np.arange(height_list[0],height_list[-1]+1,50))
ax1.set_xlabel('Height (um)', fontsize = size)
ax1.tick_params(labelsize = size)
ax1.legend(fontsize = size)

# ax1.set_ylim(0, 30) # set ylim

ax1.grid(True)

for mul in used_order2multipoles:
    ax2.plot(height_list, Coeffs.loc[mul], label = s.multipole_print_names[mul])
ax2.set_ylabel(r'2nd order multipoles $(V/mm^2)$', fontsize = size)
ax2.set_xticks(np.arange(height_list[0],height_list[-1]+1,50))
ax2.set_xlabel('Height (um)', fontsize = size)

ax2.set_ylim((0,500)) # set ylim

def U2_to_mhz(u2):
    m = 40.078 * 1.66e-27
    e = 1.6e-19
    return np.sqrt(2*e*u2*1e6/m) / 2 / np.pi / 1e6
def mhz_to_U2(mhz):
    m = 40.078 * 1.66e-27
    e = 1.6e-19
    return 4 * np.pi**2 * 1e12 * 1e-6 * m * mhz**2 / 2 / e

ax2.tick_params(labelsize = size)
ax2.legend(fontsize = size)
ax2.grid(True)
fig.suptitle('Multipole coefficients when apply 10V (design v7 IonTrap21)', fontsize = size)
fig.tight_layout(pad=1)

secax = ax2.secondary_yaxis('right', functions = (U2_to_mhz, mhz_to_U2))
secax.tick_params(labelsize = size, colors = '#2ca02c')
secax.set_ylabel('$Ca^{+}$ trap frequency (MHz)', fontsize = size, color = '#2ca02c')
# plt.show()

# plt.savefig('Multipole_coeffs_20v_rfbias.jpg', format = 'jpg', dpi = 300)





def U2_to_mhz(u2):
    m = 40.078 * 1.66e-27
    e = 1.6e-19
    return np.sqrt(2*e*u2*1e6/m) / 2 / np.pi / 1e6
def mhz_to_U2(mhz):
    m = 40.078 * 1.66e-27
    e = 1.6e-19
    return 4 * np.pi**2 * 1e12 * 1e-6 * m * mhz**2 / 2 / e

height_list = np.arange(50,255,5)
numMUltipoles = len(used_multipoles)
Coeffs = pd.DataFrame(dtype = 'float64')
for height in height_list:
    position1 = [0,0,height*1e-3]
    s.update_origin_roi(position1, roi)
    
    Coeffs_temp = pd.Series(dtype = 'float64')
    for key in used_multipoles:
        multipole_coeffs = pd.Series(np.zeros(len(used_multipoles)), index = used_multipoles)
        multipole_coeffs[key] = 1
        voltages = s.setMultipoles(multipole_coeffs)
        max_v = np.max(abs(voltages))
        Coeffs_temp[key] = 10/max_v
    
    Coeffs[height] = Coeffs_temp

size = 16

fig, ax2 = plt.subplots(figsize = (10,6))
ax2.plot(height_list-20, U2_to_mhz(Coeffs.loc['U2']), label = 'v7 IonTrap21')
ax2.set_ylabel(r'$Ca^{+}$ DC trap frequency (MHz)', fontsize = size)
ax2.set_xticks(np.arange(height_list[0],height_list[-1]+1,50))
ax2.set_xlabel('Distance to surface (um)', fontsize = size)
ax2.set_title('Max 10 volts on DC', fontsize = size)
ax2.tick_params(labelsize = size)
ax2.legend(fontsize = size)
ax2.grid(True)

# ax2.set_ylim((0,500)) # set ylim

# plt.savefig('axial_freq_10volts_v7_vs_v2.jpg', format = 'jpg', dpi = 300)





def plot_1d(height, ey, ez, ex, u3, u4, u2, u5, u1):
    position1 = [0,0,height*1e-3]
    s.update_origin_roi(position1, roi)
    multipole_coeffs = {'Ey': ey, 'Ez':ez, 'Ex': ex, 'U3':u3, 'U4':u4, 'U2':u2, 'U5':u5, 'U1':u1}
    voltages = s.setMultipoles(multipole_coeffs)
    potential_roi = s.potentialControl_roi(voltages)
    potential_regen = s.potentialControl_regen(voltages)
    
    potential_z_roi = potential_roi.sel(x = 0, y = 0)
    potential_z_regen = potential_regen.sel(x = 0, y = 0)
    potential_x_roi = potential_roi.sel(y = 0, z = height*1e-3, method = 'nearest')
    potential_x_regen = potential_regen.sel(y = 0, z = height*1e-3, method = 'nearest')
    potential_y_roi = potential_roi.sel(x = 0, z = height*1e-3, method = 'nearest')
    potential_y_regen = potential_regen.sel(x = 0, z = height*1e-3, method = 'nearest')
    
    offset = potential_roi.sel(x = 0, y = 0, z = height*1e-3, method = 'nearest') - potential_regen.sel(x = 0, y = 0, z = height*1e-3, method = 'nearest')
    print(offset)
    
    fsize = 20
    
    fig1, ax = plt.subplots(3,1,figsize = (10,20))
    ax[0].set_title('Potential along X', fontsize = fsize)
    ax[0].plot(potential_x_roi.x, potential_x_roi, 'o--', label = 'original')
    ax[0].plot(potential_x_regen.x, potential_x_regen + offset, 'o--', label = 'regenerated + offset')
    ax[0].set_xlabel('X (mm)', fontsize = fsize)
    ax[0].set_ylabel('V (v)', fontsize = fsize)
    ax[0].legend(fontsize = fsize)
    
    ax[1].set_title('Potential along Y', fontsize = fsize)
    ax[1].plot(potential_y_roi.y, potential_y_roi, 'o--', label = 'original')
    ax[1].plot(potential_y_regen.y, potential_y_regen + offset, 'o--', label = 'regenerated + offset')
    ax[1].set_xlabel('Y (mm)', fontsize = fsize)
    ax[1].set_ylabel('V (v)', fontsize = fsize)
    ax[1].legend(fontsize = fsize)
    
    ax[2].set_title('Potential along Z', fontsize = fsize)
    ax[2].plot(potential_z_roi.z, potential_z_roi, 'o--', label = 'original')
    ax[2].plot(potential_z_regen.z, potential_z_regen + offset, 'o--', label = 'regenerated + offset')
    ax[2].set_xlabel('Z (mm)', fontsize = fsize)
    ax[2].set_ylabel('V (v)', fontsize = fsize)
    ax[2].legend(fontsize = fsize)
    
    fig1.tight_layout(pad=1)
    
    plt.show()
    
#interactive_plot = interactive(plot_1d, height = (50, 250), ez=(-1, 1, 0.1), ex=(-1, 1, 0.1), ey=(-1, 1, 0.1), u2 = (0 , 40), u5 = (-10, 10), u4 = (-10, 10), u1 = (-10, 10), u3 = (-10, 10))
#output = interactive_plot.children[-1]
#output.layout.height = '1500px'
#interactive_plot
plot_1d(position[-1]*1e3, **mul_values)





def plot_U2(height, ey, ez, ex, u3, u4, u2, u5, u1):
    position1 = [0,0,height*1e-3]
    s.update_origin_roi(position1, roi)
    multipole_coeffs = {'Ey': ey, 'Ez':ez, 'Ex': ex, 'U3':u3, 'U4':u4, 'U2':u2, 'U5':u5, 'U1':u1}
    voltages = s.setMultipoles(multipole_coeffs)
    potential_roi = s.potentialControl_roi(voltages)
    potential_regen = s.potentialControl_regen(voltages)
    
    potential_xy_roi = potential_roi.sel(z = height*1e-3, l = '')
    potential_xy_regen = potential_regen.sel(z = height*1e-3, l = '')
    
    
    fsize = 20
    
    fig1 = plt.figure(figsize = (20,16))
    grid = plt.GridSpec(2,2)
    ax1 = fig1.add_subplot(grid[0,0])
    ax2 = fig1.add_subplot(grid[0,1])
    ax3 = fig1.add_subplot(grid[1,:])
    ax1.set_title('Simulated potential', fontsize = fsize)
    levels1 = np.linspace(np.amin(potential_xy_roi),np.amax(potential_xy_roi),100)
    plot1 = ax1.contourf(potential_xy_roi.x, potential_xy_roi.y, potential_xy_roi, levels1, cmap = plt.cm.viridis)
    plot1_line = ax1.contour(potential_xy_roi.x, potential_xy_roi.y, potential_xy_roi, colors = 'w')
#     ax1.clabel(plot1_line, inline = 1, fontsize = fsize)
    ax1.clabel(plot1_line, colors = 'w', fmt = '%2.3f', fontsize=fsize)
    ax1.set_xlabel('X (mm)', fontsize = fsize)
    ax1.set_ylabel('Y (mm)', fontsize = fsize)
    plt.colorbar(plot1, ax = ax1)
    
    ax2.set_title('Regenerated potential', fontsize = fsize)
    levels2 = np.linspace(np.amin(potential_xy_regen),np.amax(potential_xy_regen),100)
    plot2 = ax2.contourf(potential_xy_regen.x, potential_xy_regen.y, potential_xy_regen, levels2, cmap = plt.cm.viridis)
    plot2_line = ax2.contour(potential_xy_regen.x, potential_xy_regen.y, potential_xy_regen, colors = 'w')
#     ax2.clabel(plot2, inline = 1, fontsize = fsize)
    ax2.clabel(plot2_line, colors = 'w', fmt = '%2.3f', fontsize=fsize)
    ax2.set_xlabel('X (mm)', fontsize = fsize)
    plt.colorbar(plot2, ax = ax2)
    
    coeffs = s.setVoltages(voltages)
#     print(coeffs.index)
    ax3.bar(range(len(coeffs)),np.asarray(coeffs))
    max_coeff = np.max(coeffs)
    min_coeff = np.min(coeffs)
    margin = (max_coeff - min_coeff)*0.1
    ymax = max_coeff + margin
    ymin = min_coeff - margin
    ax3.set_ylim(ymin, ymax)
    add_value_labels(ax3)
    ax3.set_xticks(range(len(coeffs)))
    ax3.set_xticklabels(s.multipole_names, rotation = -90, fontsize = fsize)
    plt.show()
    
interactive_plot = interactive(plot_U2, height = (50, 250), ez=(-1, 1, 0.1), ex=(-1, 1, 0.1), ey=(-1, 1, 0.1), u2 = (0 , 40), u5 = (-10, 10), u4 = (-10, 10), u1 = (-10, 10), u3 = (-10, 10))
output = interactive_plot.children[-1]
output.layout.height = '700px'
interactive_plot











def plot_muls(height, ey, ez, ex, u3, u4, u2, u5, u1):
    position1 = [0,0,height*1e-3]
    s.update_origin_roi(position1, roi)
    multipole_coeffs = pd.Series({'Ey': ey, 'Ez':ez, 'Ex': ex, 'U3':u3, 'U4':u4, 'U2':u2, 'U5':u5, 'U1':u1})
    voltages = s.min_linf(multipole_coeffs, s.expansion_matrix)
    fig, ax1 = plt.subplots(figsize = (10,8))
    ax1.bar(s.controlled_elecs, voltages)
    ax1.set_xticklabels(s.trap.names, rotation = 45, fontsize = 12)
#     ax1.set_ylim(-25, 40)
    ax1.set_ylabel('V')
    
interactive_plot = interactive(plot_muls, height = (50, 250), ez=(-1, 1, 0.1), ex=(-1, 1, 0.1), ey=(-1, 1, 0.1), u2 = (0 , 40), u5 = (-10, 10), u4 = (-10, 10), u1 = (-10, 10), u3 = (-10, 10))
output = interactive_plot.children[-1]
output.layout.height = '550px'
interactive_plot


height_list = np.arange(50,255,5)
numMUltipoles = len(used_multipoles)
Coeffs = pd.DataFrame()
for height in height_list:
    position1 = [0,0,height*1e-3]
    s.update_origin_roi(position1, roi)
    
    Coeffs_temp = pd.Series(dtype = 'float64')
    for key in used_multipoles:
        multipole_coeffs = pd.Series(np.zeros(len(used_multipoles)), index = used_multipoles)
        multipole_coeffs[key] = 1
        voltages = s.min_linf(multipole_coeffs, s.expansion_matrix)
        max_v = np.max(abs(voltages))
        Coeffs_temp[key] = 10/max_v
    
    Coeffs[height] = Coeffs_temp

size = 25
# plt.rc('xtick', labelsize=size)    # fontsize of the tick labels
# plt.rc('ytick', labelsize=size)    # fontsize of the tick labels
fig, (ax1, ax2) = plt.subplots(1, 2, figsize = (20,12))
for mul in used_order1multipoles:
    ax1.plot(height_list, Coeffs.loc[mul], label = s.multipole_print_names[mul])
ax1.set_ylabel(r'1st order multipoles $(V/mm)$', fontsize = size)
ax1.set_xticks(np.arange(height_list[0],height_list[-1]+1,50))
ax1.set_xlabel('Height (um)', fontsize = size)
ax1.tick_params(labelsize = size)
ax1.legend(fontsize = size)

# ax1.set_ylim(0, 10) # set ylim

ax1.grid(True)

for mul in used_order2multipoles:
    ax2.plot(height_list, Coeffs.loc[mul], label = s.multipole_print_names[mul])
ax2.set_ylabel(r'2nd order multipoles $(V/mm^2)$', fontsize = size)
ax2.set_xticks(np.arange(height_list[0],height_list[-1]+1,50))
ax2.set_xlabel('Height (um)', fontsize = size)

ax2.set_ylim((0,500)) # set ylim

ax2.tick_params(labelsize = size)
ax2.legend(fontsize = size)
ax2.grid(True)
fig.suptitle('Multipole coefficients when apply 10V', fontsize = size)
fig.tight_layout(pad=1)

# plt.savefig('Multipole_coeffs_20v_rfbias.jpg', format = 'jpg', dpi = 300)





heights = np.arange(50,250,10)
for height in heights:
    print(height)
    position1 = [0, 0, height*1e-3]
    nROI = 0.005 # expand the field in a 2*5 um cube
    roi = [nROI,nROI,nROI]
    s.update_origin_roi(position1, roi)
    display(s.pinv_matrix)
    


multipole_names = used_multipoles
print(used_multipoles)
# height_list = [80, 90, 100, 110, 120, 130,  140, 150, 160, 170, 180, 190, 200]
height_list = np.arange(80,210,10)
volts_all_heights = []
for height in height_list:
    position1 = [0,0,height*1e-3]
    s.update_origin_roi(position1, roi)
    volts_all_elecs = []
    for multip in multipole_names:
        multipole_coeffs = {'Ey':0, 'Ez':0, 'Ex': 0, 'U3':0, 'U2':0, 'U5':0, 'U1':0,'U4':0} # change this later to be compatible with used multipoles
        multipole_coeffs[multip] = 1
        voltages = s.setMultipoles(multipole_coeffs)
        volts_all_elecs.append(voltages.values)
    volts_all_heights.append(np.ravel(volts_all_elecs, order = 'C')) # 
volts_all_heights = np.transpose(volts_all_heights)


import csv

header1 = ['multipoles: Ey, Ez, Ex, U3, U4, U2, U5, U1'] # same order as pinv_matrix?
header2 = ['default position: 160']
with open('3d_trap21_cfile.csv', 'w', newline='') as csvfile:
    cfile = csv.writer(csvfile, delimiter=' ', escapechar = ' ', quoting = csv.QUOTE_NONE)
    cfile.writerow(header1)
    cfile.writerow(header2)
    cfile.writerows(list(volts_all_heights))
    cfile.writerow(height_list)


np.arange(80,200,10)


cfile_path = '3d_trap21_cfile.csv'
cfile_text = open(cfile_path).read().split('\n')[:-1]
cfile_text





voltage_max = 1
height_list = np.arange(150,355,5)
numMUltipoles = len(used_multipoles)
Coeffs = pd.DataFrame()
for height in height_list:
    position1 = [0,0,height*1e-3]
    s.update_origin_roi(position1, roi)
    
    Coeffs_temp = pd.Series(dtype = 'float64')
    for key in used_multipoles:
        multipole_coeffs = pd.Series(np.zeros(len(used_multipoles)), index = used_multipoles)
        multipole_coeffs[key] = 1
        voltages = s.setMultipoles(multipole_coeffs)
        max_v = np.max(abs(voltages))
        Coeffs_temp[key] = voltage_max/max_v
    
    Coeffs[height] = Coeffs_temp

size = 25
# plt.rc('xtick', labelsize=size)    # fontsize of the tick labels
# plt.rc('ytick', labelsize=size)    # fontsize of the tick labels
fig, (ax1, ax2) = plt.subplots(1, 2, figsize = (20,12))
for mul in used_order1multipoles:
    ax1.plot(height_list, Coeffs.loc[mul], label = s.multipole_print_names[mul])
ax1.set_ylabel(r'1st order multipoles $(V/mm)$', fontsize = size)
ax1.set_xticks(np.arange(height_list[0],height_list[-1]+1,50))
ax1.set_xlabel('Height (um)', fontsize = size)
ax1.tick_params(labelsize = size)
ax1.legend(fontsize = size)

# ax1.set_ylim(0, 30) # set ylim

ax1.grid(True)

for mul in used_order2multipoles:
    ax2.plot(height_list, Coeffs.loc[mul], label = s.multipole_print_names[mul])
ax2.set_ylabel(r'2nd order multipoles $(V/mm^2)$', fontsize = size)
ax2.set_xticks(np.arange(height_list[0],height_list[-1]+1,50))
ax2.set_xlabel('Height (um)', fontsize = size)

ax2.set_ylim((0,5*voltage_max)) # set ylim

def U2_to_mhz(u2):
    # m = 40.078 * 1.66e-27
    m = 9.10938356e-31
    e = 1.6e-19
    return np.sqrt(2*e*u2*1e6/m) / 2 / np.pi / 1e6
def mhz_to_U2(mhz):
    # m = 40.078 * 1.66e-27
    m = 9.10938356e-31
    e = 1.6e-19
    return 4 * np.pi**2 * 1e12 * 1e-6 * m * mhz**2 / 2 / e

ax2.tick_params(labelsize = size)
ax2.legend(fontsize = size)
ax2.grid(True)
fig.suptitle('Multipole coefficients when apply {:.2f} V (design v4 Electron3dTrap_200um)'.format(voltage_max), fontsize = size)
fig.tight_layout(pad=1)

secax = ax2.secondary_yaxis('right', functions = (U2_to_mhz, mhz_to_U2))
secax.tick_params(labelsize = size, colors = '#2ca02c')
secax.set_ylabel('electron trap frequency (MHz)', fontsize = size, color = '#2ca02c')
# plt.show()

# plt.savefig('Multipole_coeffs_20v_rfbias.jpg', format = 'jpg', dpi = 300)



